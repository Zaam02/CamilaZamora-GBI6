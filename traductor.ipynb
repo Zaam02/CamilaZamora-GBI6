{
 "cells": [
  {
   "cell_type": "code",
   "execution_count": 9,
   "metadata": {},
   "outputs": [],
   "source": [
    "# importar el modulo que contiene a la funcion \n",
    "import traductor as trt"
   ]
  },
  {
   "cell_type": "code",
   "execution_count": 7,
   "metadata": {},
   "outputs": [],
   "source": [
    "#Diccionario de codones \n",
    "codon_dictionary = {\n",
    "    'TCA' : 'S',    # Serine\n",
    "    'TCC' : 'S',    # Serine\n",
    "    'TCG' : 'S',    # Serine\n",
    "    'TCT' : 'S',    # Serine\n",
    "    'TTC' : 'F',    # Phenylalanine\n",
    "    'TTT' : 'F',    # Phenylalanine\n",
    "    'TTA' : 'L',    # Leucine\n",
    "    'TTG' : 'L',    # Leucine\n",
    "    'TAC' : 'Y',    # Tyrosine\n",
    "    'TAT' : 'Y',    # Tyrosine\n",
    "    'TAA' : '_',    # Stop\n",
    "    'TAG' : '_',    # Stop\n",
    "    'TGC' : 'C',    # Cysteine\n",
    "    'TGT' : 'C',    # Cysteine\n",
    "    'TGA' : '_',    # Stop\n",
    "    'TGG' : 'W',    # Tryptophan\n",
    "    'CTA' : 'L',    # Leucine\n",
    "    'CTC' : 'L',    # Leucine\n",
    "    'CTG' : 'L',    # Leucine\n",
    "    'CTT' : 'L',    # Leucine\n",
    "    'CCA' : 'P',    # Proline\n",
    "    'CCC' : 'P',    # Proline\n",
    "    'CCG' : 'P',    # Proline\n",
    "    'CCT' : 'P',    # Proline\n",
    "    'CAC' : 'H',    # Histidine\n",
    "    'CAT' : 'H',    # Histidine\n",
    "    'CAA' : 'Q',    # Glutamine\n",
    "    'CAG' : 'Q',    # Glutamine\n",
    "    'CGA' : 'R',    # Arginine\n",
    "    'CGC' : 'R',    # Arginine\n",
    "    'CGG' : 'R',    # Arginine\n",
    "    'CGT' : 'R',    # Arginine\n",
    "    'ATA' : 'I',    # Isoleucine\n",
    "    'ATC' : 'I',    # Isoleucine\n",
    "    'ATT' : 'I',    # Isoleucine\n",
    "    'ATG' : 'M',    # Methionine\n",
    "    'ACA' : 'T',    # Threonine\n",
    "    'ACC' : 'T',    # Threonine\n",
    "    'ACG' : 'T',    # Threonine\n",
    "    'ACT' : 'T',    # Threonine\n",
    "    'AAC' : 'N',    # Asparagine\n",
    "    'AAT' : 'N',    # Asparagine\n",
    "    'AAA' : 'K',    # Lysine\n",
    "    'AAG' : 'K',    # Lysine\n",
    "    'AGC' : 'S',    # Serine\n",
    "    'AGT' : 'S',    # Serine\n",
    "    'AGA' : 'R',    # Arginine\n",
    "    'AGG' : 'R',    # Arginine\n",
    "    'GTA' : 'V',    # Valine\n",
    "    'GTC' : 'V',    # Valine\n",
    "    'GTG' : 'V',    # Valine\n",
    "    'GTT' : 'V',    # Valine\n",
    "    'GCA' : 'A',    # Alanine\n",
    "    'GCC' : 'A',    # Alanine\n",
    "    'GCG' : 'A',    # Alanine\n",
    "    'GCT' : 'A',    # Alanine\n",
    "    'GAC' : 'D',    # Aspartic Acid\n",
    "    'GAT' : 'D',    # Aspartic Acid\n",
    "    'GAA' : 'E',    # Glutamic Acid\n",
    "    'GAG' : 'E',    # Glutamic Acid\n",
    "    'GGA' : 'G',    # Glycine\n",
    "    'GGC' : 'G',    # Glycine\n",
    "    'GGG' : 'G',    # Glycine\n",
    "    'GGT' : 'G',    # Glycine\n",
    "    }"
   ]
  },
  {
   "cell_type": "code",
   "execution_count": 10,
   "metadata": {},
   "outputs": [
    {
     "ename": "TypeError",
     "evalue": "traductor() takes 1 positional argument but 2 were given",
     "output_type": "error",
     "traceback": [
      "\u001b[0;31m---------------------------------------------------------------------------\u001b[0m",
      "\u001b[0;31mTypeError\u001b[0m                                 Traceback (most recent call last)",
      "Cell \u001b[0;32mIn[10], line 3\u001b[0m\n\u001b[1;32m      1\u001b[0m \u001b[39m# Usar la funcion\u001b[39;00m\n\u001b[1;32m      2\u001b[0m seq \u001b[39m=\u001b[39m \u001b[39m\"\u001b[39m\u001b[39mATGTACCCGAGCTAGCAGTAGCTGATCGATACCACATA\u001b[39m\u001b[39m\"\u001b[39m\n\u001b[0;32m----> 3\u001b[0m trt\u001b[39m.\u001b[39;49mtraductor(seq, codon_dictionary)\n",
      "\u001b[0;31mTypeError\u001b[0m: traductor() takes 1 positional argument but 2 were given"
     ]
    }
   ],
   "source": [
    "# Usar la funcion\n",
    "seq = \"ATGTACCCGAGCTAGAATTCGCAGTAGCTGATCGATACCACATA\"\n",
    "trt.traductor(seq, codon_dictionary)"
   ]
  },
  {
   "cell_type": "code",
   "execution_count": null,
   "metadata": {},
   "outputs": [],
   "source": []
  }
 ],
 "metadata": {
  "kernelspec": {
   "display_name": "Python 3",
   "language": "python",
   "name": "python3"
  },
  "language_info": {
   "codemirror_mode": {
    "name": "ipython",
    "version": 3
   },
   "file_extension": ".py",
   "mimetype": "text/x-python",
   "name": "python",
   "nbconvert_exporter": "python",
   "pygments_lexer": "ipython3",
   "version": "3.10.8"
  },
  "orig_nbformat": 4
 },
 "nbformat": 4,
 "nbformat_minor": 2
}
