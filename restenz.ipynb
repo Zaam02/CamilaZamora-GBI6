{
 "cells": [
  {
   "cell_type": "code",
   "execution_count": 23,
   "metadata": {},
   "outputs": [],
   "source": [
    "from restenz import enzima\n",
    "seq = \"CGATGATGAATTCGTACCCGAGCTGAATTCAGCAGAATTCAGCTGATCGATACCAGAATTCCATA\"\n",
    "enzimas = [\"GAATTC\", \"AAGCTT\", \"GCGGCCGC\"]\n",
    "\n",
    "for empalme in enzimas:\n",
    "    resultados = enzima(seq, empalme)\n",
    "    print(\"Empalme de enzima:\", empalme)\n",
    "    for frag in resultados:\n",
    "        print(\"Fragmento:\", frag[0])\n",
    "        print(\"Longitud:\", frag[1])\n",
    "    print(\"-\" * 30)"
   ]
  }
 ],
 "metadata": {
  "kernelspec": {
   "display_name": "Python 3",
   "language": "python",
   "name": "python3"
  },
  "language_info": {
   "codemirror_mode": {
    "name": "ipython",
    "version": 3
   },
   "file_extension": ".py",
   "mimetype": "text/x-python",
   "name": "python",
   "nbconvert_exporter": "python",
   "pygments_lexer": "ipython3",
   "version": "3.10.8"
  },
  "orig_nbformat": 4
 },
 "nbformat": 4,
 "nbformat_minor": 2
}
